{
 "cells": [
  {
   "cell_type": "code",
   "execution_count": 1,
   "metadata": {
    "collapsed": false
   },
   "outputs": [],
   "source": [
    "def eval_loop():\n",
    "    result = \"No prior expression evaluated.\"\n",
    "    while True:\n",
    "        string = str(input(\"Enter an expression to evaluate or 'done' if finished: \"))\n",
    "        if string == 'done':\n",
    "            print(result)\n",
    "            break\n",
    "        else:\n",
    "            result = eval(string)\n",
    "            print(result)"
   ]
  },
  {
   "cell_type": "code",
   "execution_count": 2,
   "metadata": {
    "collapsed": false
   },
   "outputs": [
    {
     "name": "stdout",
     "output_type": "stream",
     "text": [
      "Enter an expression to evaluate or 'done' if finished: 3+2\n",
      "5\n",
      "Enter an expression to evaluate or 'done' if finished: 5+2\n",
      "7\n",
      "Enter an expression to evaluate or 'done' if finished: done\n",
      "7\n"
     ]
    }
   ],
   "source": [
    "eval_loop()"
   ]
  },
  {
   "cell_type": "code",
   "execution_count": null,
   "metadata": {
    "collapsed": true
   },
   "outputs": [],
   "source": []
  }
 ],
 "metadata": {
  "kernelspec": {
   "display_name": "Python 3",
   "language": "python",
   "name": "python3"
  },
  "language_info": {
   "codemirror_mode": {
    "name": "ipython",
    "version": 3
   },
   "file_extension": ".py",
   "mimetype": "text/x-python",
   "name": "python",
   "nbconvert_exporter": "python",
   "pygments_lexer": "ipython3",
   "version": "3.6.0"
  }
 },
 "nbformat": 4,
 "nbformat_minor": 2
}
